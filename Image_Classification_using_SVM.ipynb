{
  "nbformat": 4,
  "nbformat_minor": 0,
  "metadata": {
    "colab": {
      "provenance": [],
      "gpuType": "T4"
    },
    "kernelspec": {
      "name": "python3",
      "display_name": "Python 3"
    },
    "language_info": {
      "name": "python"
    },
    "accelerator": "GPU",
    "widgets": {
      "application/vnd.jupyter.widget-state+json": {
        "5d95b10febb045dbae5fc53ad2c2e056": {
          "model_module": "@jupyter-widgets/controls",
          "model_name": "HBoxModel",
          "model_module_version": "1.5.0",
          "state": {
            "_dom_classes": [],
            "_model_module": "@jupyter-widgets/controls",
            "_model_module_version": "1.5.0",
            "_model_name": "HBoxModel",
            "_view_count": null,
            "_view_module": "@jupyter-widgets/controls",
            "_view_module_version": "1.5.0",
            "_view_name": "HBoxView",
            "box_style": "",
            "children": [
              "IPY_MODEL_9138d175877d49f08c8bea60870bbc7e",
              "IPY_MODEL_a345a26ae89e4e7aa130d39ce330a207",
              "IPY_MODEL_b9936bbf2d514a70b103a2322e652de7"
            ],
            "layout": "IPY_MODEL_d2e62fe591104baf80b8095b587b295b"
          }
        },
        "9138d175877d49f08c8bea60870bbc7e": {
          "model_module": "@jupyter-widgets/controls",
          "model_name": "HTMLModel",
          "model_module_version": "1.5.0",
          "state": {
            "_dom_classes": [],
            "_model_module": "@jupyter-widgets/controls",
            "_model_module_version": "1.5.0",
            "_model_name": "HTMLModel",
            "_view_count": null,
            "_view_module": "@jupyter-widgets/controls",
            "_view_module_version": "1.5.0",
            "_view_name": "HTMLView",
            "description": "",
            "description_tooltip": null,
            "layout": "IPY_MODEL_0e0796d3aef94cbeb0f1d02606a40a90",
            "placeholder": "​",
            "style": "IPY_MODEL_ca00833471dd48bdbded14b0832e1524",
            "value": "Training SVM: 100%"
          }
        },
        "a345a26ae89e4e7aa130d39ce330a207": {
          "model_module": "@jupyter-widgets/controls",
          "model_name": "FloatProgressModel",
          "model_module_version": "1.5.0",
          "state": {
            "_dom_classes": [],
            "_model_module": "@jupyter-widgets/controls",
            "_model_module_version": "1.5.0",
            "_model_name": "FloatProgressModel",
            "_view_count": null,
            "_view_module": "@jupyter-widgets/controls",
            "_view_module_version": "1.5.0",
            "_view_name": "ProgressView",
            "bar_style": "success",
            "description": "",
            "description_tooltip": null,
            "layout": "IPY_MODEL_53ff5f46832441979f4beaa6fc21aa15",
            "max": 191,
            "min": 0,
            "orientation": "horizontal",
            "style": "IPY_MODEL_48728b64da484e1691e8bb0a041affea",
            "value": 191
          }
        },
        "b9936bbf2d514a70b103a2322e652de7": {
          "model_module": "@jupyter-widgets/controls",
          "model_name": "HTMLModel",
          "model_module_version": "1.5.0",
          "state": {
            "_dom_classes": [],
            "_model_module": "@jupyter-widgets/controls",
            "_model_module_version": "1.5.0",
            "_model_name": "HTMLModel",
            "_view_count": null,
            "_view_module": "@jupyter-widgets/controls",
            "_view_module_version": "1.5.0",
            "_view_name": "HTMLView",
            "description": "",
            "description_tooltip": null,
            "layout": "IPY_MODEL_9580ab81292f46c2b92383819dc6b6d6",
            "placeholder": "​",
            "style": "IPY_MODEL_5827108628f1465fb63408e2ab6bb38d",
            "value": " 191/191 [00:04&lt;00:00, 44.41batch/s]"
          }
        },
        "d2e62fe591104baf80b8095b587b295b": {
          "model_module": "@jupyter-widgets/base",
          "model_name": "LayoutModel",
          "model_module_version": "1.2.0",
          "state": {
            "_model_module": "@jupyter-widgets/base",
            "_model_module_version": "1.2.0",
            "_model_name": "LayoutModel",
            "_view_count": null,
            "_view_module": "@jupyter-widgets/base",
            "_view_module_version": "1.2.0",
            "_view_name": "LayoutView",
            "align_content": null,
            "align_items": null,
            "align_self": null,
            "border": null,
            "bottom": null,
            "display": null,
            "flex": null,
            "flex_flow": null,
            "grid_area": null,
            "grid_auto_columns": null,
            "grid_auto_flow": null,
            "grid_auto_rows": null,
            "grid_column": null,
            "grid_gap": null,
            "grid_row": null,
            "grid_template_areas": null,
            "grid_template_columns": null,
            "grid_template_rows": null,
            "height": null,
            "justify_content": null,
            "justify_items": null,
            "left": null,
            "margin": null,
            "max_height": null,
            "max_width": null,
            "min_height": null,
            "min_width": null,
            "object_fit": null,
            "object_position": null,
            "order": null,
            "overflow": null,
            "overflow_x": null,
            "overflow_y": null,
            "padding": null,
            "right": null,
            "top": null,
            "visibility": null,
            "width": null
          }
        },
        "0e0796d3aef94cbeb0f1d02606a40a90": {
          "model_module": "@jupyter-widgets/base",
          "model_name": "LayoutModel",
          "model_module_version": "1.2.0",
          "state": {
            "_model_module": "@jupyter-widgets/base",
            "_model_module_version": "1.2.0",
            "_model_name": "LayoutModel",
            "_view_count": null,
            "_view_module": "@jupyter-widgets/base",
            "_view_module_version": "1.2.0",
            "_view_name": "LayoutView",
            "align_content": null,
            "align_items": null,
            "align_self": null,
            "border": null,
            "bottom": null,
            "display": null,
            "flex": null,
            "flex_flow": null,
            "grid_area": null,
            "grid_auto_columns": null,
            "grid_auto_flow": null,
            "grid_auto_rows": null,
            "grid_column": null,
            "grid_gap": null,
            "grid_row": null,
            "grid_template_areas": null,
            "grid_template_columns": null,
            "grid_template_rows": null,
            "height": null,
            "justify_content": null,
            "justify_items": null,
            "left": null,
            "margin": null,
            "max_height": null,
            "max_width": null,
            "min_height": null,
            "min_width": null,
            "object_fit": null,
            "object_position": null,
            "order": null,
            "overflow": null,
            "overflow_x": null,
            "overflow_y": null,
            "padding": null,
            "right": null,
            "top": null,
            "visibility": null,
            "width": null
          }
        },
        "ca00833471dd48bdbded14b0832e1524": {
          "model_module": "@jupyter-widgets/controls",
          "model_name": "DescriptionStyleModel",
          "model_module_version": "1.5.0",
          "state": {
            "_model_module": "@jupyter-widgets/controls",
            "_model_module_version": "1.5.0",
            "_model_name": "DescriptionStyleModel",
            "_view_count": null,
            "_view_module": "@jupyter-widgets/base",
            "_view_module_version": "1.2.0",
            "_view_name": "StyleView",
            "description_width": ""
          }
        },
        "53ff5f46832441979f4beaa6fc21aa15": {
          "model_module": "@jupyter-widgets/base",
          "model_name": "LayoutModel",
          "model_module_version": "1.2.0",
          "state": {
            "_model_module": "@jupyter-widgets/base",
            "_model_module_version": "1.2.0",
            "_model_name": "LayoutModel",
            "_view_count": null,
            "_view_module": "@jupyter-widgets/base",
            "_view_module_version": "1.2.0",
            "_view_name": "LayoutView",
            "align_content": null,
            "align_items": null,
            "align_self": null,
            "border": null,
            "bottom": null,
            "display": null,
            "flex": null,
            "flex_flow": null,
            "grid_area": null,
            "grid_auto_columns": null,
            "grid_auto_flow": null,
            "grid_auto_rows": null,
            "grid_column": null,
            "grid_gap": null,
            "grid_row": null,
            "grid_template_areas": null,
            "grid_template_columns": null,
            "grid_template_rows": null,
            "height": null,
            "justify_content": null,
            "justify_items": null,
            "left": null,
            "margin": null,
            "max_height": null,
            "max_width": null,
            "min_height": null,
            "min_width": null,
            "object_fit": null,
            "object_position": null,
            "order": null,
            "overflow": null,
            "overflow_x": null,
            "overflow_y": null,
            "padding": null,
            "right": null,
            "top": null,
            "visibility": null,
            "width": null
          }
        },
        "48728b64da484e1691e8bb0a041affea": {
          "model_module": "@jupyter-widgets/controls",
          "model_name": "ProgressStyleModel",
          "model_module_version": "1.5.0",
          "state": {
            "_model_module": "@jupyter-widgets/controls",
            "_model_module_version": "1.5.0",
            "_model_name": "ProgressStyleModel",
            "_view_count": null,
            "_view_module": "@jupyter-widgets/base",
            "_view_module_version": "1.2.0",
            "_view_name": "StyleView",
            "bar_color": null,
            "description_width": ""
          }
        },
        "9580ab81292f46c2b92383819dc6b6d6": {
          "model_module": "@jupyter-widgets/base",
          "model_name": "LayoutModel",
          "model_module_version": "1.2.0",
          "state": {
            "_model_module": "@jupyter-widgets/base",
            "_model_module_version": "1.2.0",
            "_model_name": "LayoutModel",
            "_view_count": null,
            "_view_module": "@jupyter-widgets/base",
            "_view_module_version": "1.2.0",
            "_view_name": "LayoutView",
            "align_content": null,
            "align_items": null,
            "align_self": null,
            "border": null,
            "bottom": null,
            "display": null,
            "flex": null,
            "flex_flow": null,
            "grid_area": null,
            "grid_auto_columns": null,
            "grid_auto_flow": null,
            "grid_auto_rows": null,
            "grid_column": null,
            "grid_gap": null,
            "grid_row": null,
            "grid_template_areas": null,
            "grid_template_columns": null,
            "grid_template_rows": null,
            "height": null,
            "justify_content": null,
            "justify_items": null,
            "left": null,
            "margin": null,
            "max_height": null,
            "max_width": null,
            "min_height": null,
            "min_width": null,
            "object_fit": null,
            "object_position": null,
            "order": null,
            "overflow": null,
            "overflow_x": null,
            "overflow_y": null,
            "padding": null,
            "right": null,
            "top": null,
            "visibility": null,
            "width": null
          }
        },
        "5827108628f1465fb63408e2ab6bb38d": {
          "model_module": "@jupyter-widgets/controls",
          "model_name": "DescriptionStyleModel",
          "model_module_version": "1.5.0",
          "state": {
            "_model_module": "@jupyter-widgets/controls",
            "_model_module_version": "1.5.0",
            "_model_name": "DescriptionStyleModel",
            "_view_count": null,
            "_view_module": "@jupyter-widgets/base",
            "_view_module_version": "1.2.0",
            "_view_name": "StyleView",
            "description_width": ""
          }
        }
      }
    }
  },
  "cells": [
    {
      "cell_type": "code",
      "execution_count": null,
      "metadata": {
        "id": "XRIJ8JcniYB5"
      },
      "outputs": [],
      "source": [
        "import zipfile\n",
        "import os\n",
        "import cv2\n",
        "import numpy as np\n",
        "from sklearn.model_selection import train_test_split\n",
        "from sklearn.svm import SVC\n",
        "from sklearn.metrics import accuracy_score\n",
        "import joblib\n",
        "import pandas as pd\n",
        "from tqdm.auto import tqdm\n",
        "\n",
        "# Define paths\n",
        "train_zip_path = '/content/drive/MyDrive/Task 3/train.zip'\n",
        "test_zip_path = '/content/drive/MyDrive/Task 3/test1.zip'"
      ]
    },
    {
      "cell_type": "code",
      "source": [
        "# Function to load images and labels directly from zip file based on filename patterns\n",
        "def load_images_and_labels_from_zip(zip_path):\n",
        "    images = []\n",
        "    labels = []\n",
        "    filenames = []\n",
        "    with zipfile.ZipFile(zip_path, 'r') as zip_ref:\n",
        "        for file_info in zip_ref.infolist():\n",
        "            if file_info.filename.endswith('.jpg') or file_info.filename.endswith('.png'):\n",
        "                label = 'cats' if 'cat' in file_info.filename.lower() else 'dogs'\n",
        "                filenames.append(file_info.filename)\n",
        "                with zip_ref.open(file_info.filename) as file:\n",
        "                    img_array = np.frombuffer(file.read(), np.uint8)\n",
        "                    img = cv2.imdecode(img_array, cv2.IMREAD_GRAYSCALE)\n",
        "                    if img is not None:\n",
        "                        img = cv2.resize(img, (64, 64))\n",
        "                        images.append(img.flatten())\n",
        "                        labels.append(0 if label == 'cats' else 1)\n",
        "    return np.array(images), np.array(labels), filenames\n",
        "\n",
        "# Function to load images directly from zip file without labels\n",
        "def load_images_from_zip(zip_path):\n",
        "    images = []\n",
        "    filenames = []\n",
        "    with zipfile.ZipFile(zip_path, 'r') as zip_ref:\n",
        "        for file_info in zip_ref.infolist():\n",
        "            if file_info.filename.endswith('.jpg') or file_info.filename.endswith('.png'):\n",
        "                with zip_ref.open(file_info.filename) as file:\n",
        "                    img_array = np.frombuffer(file.read(), np.uint8)\n",
        "                    img = cv2.imdecode(img_array, cv2.IMREAD_GRAYSCALE)\n",
        "                    if img is not None:\n",
        "                        img = cv2.resize(img, (64, 64))\n",
        "                        images.append(img.flatten())\n",
        "                        filenames.append(file_info.filename)\n",
        "    return np.array(images), filenames\n",
        "\n",
        "# Load training images and labels\n",
        "X_train, y_train, filenames = load_images_and_labels_from_zip(train_zip_path)"
      ],
      "metadata": {
        "id": "TvuK7waAuT0_"
      },
      "execution_count": null,
      "outputs": []
    },
    {
      "cell_type": "code",
      "source": [
        "for i in range(20):\n",
        "    print(f\"Filename: {filenames[i]}, Label: {'cat' if y_train[i] == 0 else 'dog'}\")\n",
        "\n",
        "# Debugging: Check the distribution of labels\n",
        "print(f\"Number of samples in the dataset: {len(y_train)}\")\n",
        "print(f\"Number of cat samples: {np.sum(y_train == 0)}\")\n",
        "print(f\"Number of dog samples: {np.sum(y_train == 1)}\")\n",
        "\n",
        "# Check if we have more than one class\n",
        "if len(np.unique(y_train)) < 2:\n",
        "    raise ValueError(\"The number of classes has to be greater than one; check your dataset.\")"
      ],
      "metadata": {
        "id": "NNfKFGNlv5xg",
        "colab": {
          "base_uri": "https://localhost:8080/"
        },
        "outputId": "187e63ba-f7ff-40e4-9180-9c4e041d54f2"
      },
      "execution_count": null,
      "outputs": [
        {
          "output_type": "stream",
          "name": "stdout",
          "text": [
            "Filename: train/cat.11036.jpg, Label: cat\n",
            "Filename: train/cat.11037.jpg, Label: cat\n",
            "Filename: train/cat.11038.jpg, Label: cat\n",
            "Filename: train/cat.11039.jpg, Label: cat\n",
            "Filename: train/cat.1104.jpg, Label: cat\n",
            "Filename: train/cat.11040.jpg, Label: cat\n",
            "Filename: train/cat.11041.jpg, Label: cat\n",
            "Filename: train/cat.11042.jpg, Label: cat\n",
            "Filename: train/cat.11043.jpg, Label: cat\n",
            "Filename: train/cat.11044.jpg, Label: cat\n",
            "Filename: train/cat.11045.jpg, Label: cat\n",
            "Filename: train/cat.11046.jpg, Label: cat\n",
            "Filename: train/cat.11047.jpg, Label: cat\n",
            "Filename: train/cat.11048.jpg, Label: cat\n",
            "Filename: train/cat.11049.jpg, Label: cat\n",
            "Filename: train/cat.1105.jpg, Label: cat\n",
            "Filename: train/cat.11050.jpg, Label: cat\n",
            "Filename: train/cat.11051.jpg, Label: cat\n",
            "Filename: train/cat.11052.jpg, Label: cat\n",
            "Filename: train/cat.11053.jpg, Label: cat\n",
            "Number of samples in the dataset: 23845\n",
            "Number of cat samples: 11345\n",
            "Number of dog samples: 12500\n"
          ]
        }
      ]
    },
    {
      "cell_type": "code",
      "source": [
        "# Split the subset data into training and testing sets\n",
        "X_train, X_test_split, y_train, y_test_split = train_test_split(X_train, y_train, test_size=0.2, random_state=42)\n",
        "\n",
        "# Train the SVM model with progress bar\n",
        "svm_model = SVC(kernel='linear')\n",
        "batch_size = 100  # Define batch size\n",
        "num_batches = int(np.ceil(len(X_train) / batch_size))\n",
        "for i in tqdm(range(num_batches), desc=\"Training SVM\", unit=\"batch\"):\n",
        "    start = i * batch_size\n",
        "    end = min((i + 1) * batch_size, len(X_train))\n",
        "    svm_model.fit(X_train[start:end], y_train[start:end])\n",
        "\n",
        "# Save the trained model\n",
        "joblib.dump(svm_model, 'svm_cat_dog_classifier.pkl')\n",
        "print(\"Model saved as 'svm_cat_dog_classifier.pkl'\")"
      ],
      "metadata": {
        "id": "RmWa1pBxwDes",
        "colab": {
          "base_uri": "https://localhost:8080/",
          "height": 66,
          "referenced_widgets": [
            "5d95b10febb045dbae5fc53ad2c2e056",
            "9138d175877d49f08c8bea60870bbc7e",
            "a345a26ae89e4e7aa130d39ce330a207",
            "b9936bbf2d514a70b103a2322e652de7",
            "d2e62fe591104baf80b8095b587b295b",
            "0e0796d3aef94cbeb0f1d02606a40a90",
            "ca00833471dd48bdbded14b0832e1524",
            "53ff5f46832441979f4beaa6fc21aa15",
            "48728b64da484e1691e8bb0a041affea",
            "9580ab81292f46c2b92383819dc6b6d6",
            "5827108628f1465fb63408e2ab6bb38d"
          ]
        },
        "outputId": "477bc8af-2f9f-403a-cc55-365d94c0d337"
      },
      "execution_count": null,
      "outputs": [
        {
          "output_type": "display_data",
          "data": {
            "text/plain": [
              "Training SVM:   0%|          | 0/191 [00:00<?, ?batch/s]"
            ],
            "application/vnd.jupyter.widget-view+json": {
              "version_major": 2,
              "version_minor": 0,
              "model_id": "5d95b10febb045dbae5fc53ad2c2e056"
            }
          },
          "metadata": {}
        },
        {
          "output_type": "stream",
          "name": "stdout",
          "text": [
            "Model saved as 'svm_cat_dog_classifier.pkl'\n"
          ]
        }
      ]
    },
    {
      "cell_type": "code",
      "source": [
        "# Load the test images\n",
        "X_test, test_filenames = load_images_from_zip(test_zip_path)\n",
        "\n",
        "# Load the trained model\n",
        "svm_model = joblib.load('svm_cat_dog_classifier.pkl')\n",
        "\n",
        "# Make predictions on the test set\n",
        "y_pred = svm_model.predict(X_test)\n",
        "\n",
        "# Save the predictions to a CSV file\n",
        "predictions_df = pd.DataFrame({\n",
        "    'Filename': test_filenames,\n",
        "    'PredictedLabel': y_pred\n",
        "})\n",
        "predictions_df['PredictedLabel'] = predictions_df['PredictedLabel'].map({0: 'cat', 1: 'dog'})\n",
        "predictions_df.to_csv('test_predictions.csv', index=False)\n",
        "\n",
        "print(\"Predictions saved to 'test_predictions.csv'\")"
      ],
      "metadata": {
        "id": "X1MRpgSmwJJ8",
        "colab": {
          "base_uri": "https://localhost:8080/"
        },
        "outputId": "d8307d08-9209-49b6-be12-c33dfc422bd5"
      },
      "execution_count": null,
      "outputs": [
        {
          "output_type": "stream",
          "name": "stdout",
          "text": [
            "Predictions saved to 'test_predictions.csv'\n"
          ]
        }
      ]
    }
  ]
}